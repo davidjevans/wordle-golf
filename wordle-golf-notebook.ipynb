{
 "cells": [
  {
   "cell_type": "code",
   "execution_count": 1,
   "id": "0961e45f",
   "metadata": {},
   "outputs": [],
   "source": [
    "import pandas as pd"
   ]
  },
  {
   "cell_type": "code",
   "execution_count": 2,
   "id": "16cc82c2",
   "metadata": {},
   "outputs": [],
   "source": [
    "scores_df = pd.read_csv(\"test.csv\")\n",
    "# Textra wrote out my scores as \"me\", let's get them back to \"david\"\n",
    "scores_df.name = scores_df.name.replace(['me'],'david')"
   ]
  },
  {
   "cell_type": "code",
   "execution_count": 3,
   "id": "c4166889",
   "metadata": {},
   "outputs": [
    {
     "data": {
      "text/plain": [
       "doug      162\n",
       "jamie     162\n",
       "david     161\n",
       "madre     161\n",
       "lisa      156\n",
       "daniel    147\n",
       "Name: name, dtype: int64"
      ]
     },
     "execution_count": 3,
     "metadata": {},
     "output_type": "execute_result"
    }
   ],
   "source": [
    "scores_df.name.value_counts()"
   ]
  },
  {
   "cell_type": "code",
   "execution_count": 83,
   "id": "9eeb8f19",
   "metadata": {},
   "outputs": [],
   "source": [
    "jamie_scores_df = scores_df[scores_df.name == \"jamie\"]\n",
    "daniel_scores_df = scores_df[scores_df.name == \"daniel\"]\n",
    "david_scores_df = scores_df[scores_df.name == \"david\"]"
   ]
  },
  {
   "cell_type": "code",
   "execution_count": 89,
   "id": "045d7440",
   "metadata": {},
   "outputs": [
    {
     "data": {
      "text/html": [
       "<div>\n",
       "<style scoped>\n",
       "    .dataframe tbody tr th:only-of-type {\n",
       "        vertical-align: middle;\n",
       "    }\n",
       "\n",
       "    .dataframe tbody tr th {\n",
       "        vertical-align: top;\n",
       "    }\n",
       "\n",
       "    .dataframe thead th {\n",
       "        text-align: right;\n",
       "    }\n",
       "</style>\n",
       "<table border=\"1\" class=\"dataframe\">\n",
       "  <thead>\n",
       "    <tr style=\"text-align: right;\">\n",
       "      <th></th>\n",
       "      <th>Unnamed: 0</th>\n",
       "      <th>puzzle_number</th>\n",
       "      <th>name</th>\n",
       "    </tr>\n",
       "    <tr>\n",
       "      <th>score</th>\n",
       "      <th></th>\n",
       "      <th></th>\n",
       "      <th></th>\n",
       "    </tr>\n",
       "  </thead>\n",
       "  <tbody>\n",
       "    <tr>\n",
       "      <th>2</th>\n",
       "      <td>6</td>\n",
       "      <td>6</td>\n",
       "      <td>6</td>\n",
       "    </tr>\n",
       "    <tr>\n",
       "      <th>3</th>\n",
       "      <td>58</td>\n",
       "      <td>58</td>\n",
       "      <td>58</td>\n",
       "    </tr>\n",
       "    <tr>\n",
       "      <th>4</th>\n",
       "      <td>61</td>\n",
       "      <td>61</td>\n",
       "      <td>61</td>\n",
       "    </tr>\n",
       "    <tr>\n",
       "      <th>5</th>\n",
       "      <td>29</td>\n",
       "      <td>29</td>\n",
       "      <td>29</td>\n",
       "    </tr>\n",
       "    <tr>\n",
       "      <th>6</th>\n",
       "      <td>4</td>\n",
       "      <td>4</td>\n",
       "      <td>4</td>\n",
       "    </tr>\n",
       "    <tr>\n",
       "      <th>X</th>\n",
       "      <td>3</td>\n",
       "      <td>3</td>\n",
       "      <td>3</td>\n",
       "    </tr>\n",
       "  </tbody>\n",
       "</table>\n",
       "</div>"
      ],
      "text/plain": [
       "       Unnamed: 0  puzzle_number  name\n",
       "score                                 \n",
       "2               6              6     6\n",
       "3              58             58    58\n",
       "4              61             61    61\n",
       "5              29             29    29\n",
       "6               4              4     4\n",
       "X               3              3     3"
      ]
     },
     "execution_count": 89,
     "metadata": {},
     "output_type": "execute_result"
    }
   ],
   "source": [
    "david_scores_df.groupby(\"score\").count()"
   ]
  },
  {
   "cell_type": "code",
   "execution_count": 115,
   "id": "cdc2d0d7",
   "metadata": {},
   "outputs": [],
   "source": [
    "counted_df = scores_df.groupby([\"name\", \"score\"]).count().reset_index()\n",
    "counted_df = counted_df.rename(columns={\"puzzle_number\": \"count\"})"
   ]
  },
  {
   "cell_type": "code",
   "execution_count": 116,
   "id": "0083184c",
   "metadata": {},
   "outputs": [
    {
     "data": {
      "text/plain": [
       "<AxesSubplot:xlabel='score', ylabel='count'>"
      ]
     },
     "execution_count": 116,
     "metadata": {},
     "output_type": "execute_result"
    },
    {
     "data": {
      "image/png": "[encoded data removed]",
      "text/plain": [
       "<Figure size 432x288 with 1 Axes>"
      ]
     },
     "metadata": {
      "needs_background": "light"
     },
     "output_type": "display_data"
    }
   ],
   "source": [
    "import seaborn as sns\n",
    "sns.barplot(data=counted_df, x=\"score\", y=\"count\", hue=\"name\", order=[\"1\", \"2\", \"3\", \"4\", \"5\", \"6\", \"X\"])"
   ]
  },
  {
   "cell_type": "code",
   "execution_count": 61,
   "id": "95e4e67e",
   "metadata": {},
   "outputs": [],
   "source": [
    "jamies_puzzles = set(jamie_scores_df.puzzle_number.tolist())\n",
    "davids_puzzles = set(david_scores_df.puzzle_number.tolist())\n",
    "daniels_puzzles = set(daniel_scores_df.puzzle_number.tolist())"
   ]
  },
  {
   "cell_type": "code",
   "execution_count": 62,
   "id": "92a4554b",
   "metadata": {},
   "outputs": [
    {
     "data": {
      "text/plain": [
       "set()"
      ]
     },
     "execution_count": 62,
     "metadata": {},
     "output_type": "execute_result"
    }
   ],
   "source": [
    "davids_puzzles.difference(jamies_puzzles)\n",
    "davids_puzzles.difference(jamies_puzzles)"
   ]
  },
  {
   "cell_type": "code",
   "execution_count": 63,
   "id": "175a0798",
   "metadata": {},
   "outputs": [
    {
     "data": {
      "text/plain": [
       "{355, 363, 366, 397}"
      ]
     },
     "execution_count": 63,
     "metadata": {},
     "output_type": "execute_result"
    }
   ],
   "source": [
    "jamies_puzzles.difference(daniels_puzzles)"
   ]
  },
  {
   "cell_type": "code",
   "execution_count": 69,
   "id": "09367f4d",
   "metadata": {},
   "outputs": [
    {
     "data": {
      "text/html": [
       "<div>\n",
       "<style scoped>\n",
       "    .dataframe tbody tr th:only-of-type {\n",
       "        vertical-align: middle;\n",
       "    }\n",
       "\n",
       "    .dataframe tbody tr th {\n",
       "        vertical-align: top;\n",
       "    }\n",
       "\n",
       "    .dataframe thead th {\n",
       "        text-align: right;\n",
       "    }\n",
       "</style>\n",
       "<table border=\"1\" class=\"dataframe\">\n",
       "  <thead>\n",
       "    <tr style=\"text-align: right;\">\n",
       "      <th></th>\n",
       "      <th>Unnamed: 0</th>\n",
       "      <th>puzzle_number</th>\n",
       "      <th>score</th>\n",
       "      <th>name</th>\n",
       "    </tr>\n",
       "  </thead>\n",
       "  <tbody>\n",
       "    <tr>\n",
       "      <th>4</th>\n",
       "      <td>NaN</td>\n",
       "      <td>NaN</td>\n",
       "      <td>NaN</td>\n",
       "      <td>NaN</td>\n",
       "    </tr>\n",
       "    <tr>\n",
       "      <th>9</th>\n",
       "      <td>NaN</td>\n",
       "      <td>NaN</td>\n",
       "      <td>NaN</td>\n",
       "      <td>NaN</td>\n",
       "    </tr>\n",
       "    <tr>\n",
       "      <th>14</th>\n",
       "      <td>NaN</td>\n",
       "      <td>NaN</td>\n",
       "      <td>NaN</td>\n",
       "      <td>NaN</td>\n",
       "    </tr>\n",
       "    <tr>\n",
       "      <th>21</th>\n",
       "      <td>NaN</td>\n",
       "      <td>NaN</td>\n",
       "      <td>NaN</td>\n",
       "      <td>NaN</td>\n",
       "    </tr>\n",
       "    <tr>\n",
       "      <th>24</th>\n",
       "      <td>NaN</td>\n",
       "      <td>NaN</td>\n",
       "      <td>NaN</td>\n",
       "      <td>NaN</td>\n",
       "    </tr>\n",
       "    <tr>\n",
       "      <th>...</th>\n",
       "      <td>...</td>\n",
       "      <td>...</td>\n",
       "      <td>...</td>\n",
       "      <td>...</td>\n",
       "    </tr>\n",
       "    <tr>\n",
       "      <th>329</th>\n",
       "      <td>NaN</td>\n",
       "      <td>NaN</td>\n",
       "      <td>NaN</td>\n",
       "      <td>NaN</td>\n",
       "    </tr>\n",
       "    <tr>\n",
       "      <th>336</th>\n",
       "      <td>NaN</td>\n",
       "      <td>NaN</td>\n",
       "      <td>NaN</td>\n",
       "      <td>NaN</td>\n",
       "    </tr>\n",
       "    <tr>\n",
       "      <th>343</th>\n",
       "      <td>NaN</td>\n",
       "      <td>NaN</td>\n",
       "      <td>NaN</td>\n",
       "      <td>NaN</td>\n",
       "    </tr>\n",
       "    <tr>\n",
       "      <th>346</th>\n",
       "      <td>NaN</td>\n",
       "      <td>NaN</td>\n",
       "      <td>NaN</td>\n",
       "      <td>NaN</td>\n",
       "    </tr>\n",
       "    <tr>\n",
       "      <th>354</th>\n",
       "      <td>NaN</td>\n",
       "      <td>NaN</td>\n",
       "      <td>NaN</td>\n",
       "      <td>NaN</td>\n",
       "    </tr>\n",
       "  </tbody>\n",
       "</table>\n",
       "<p>61 rows × 4 columns</p>\n",
       "</div>"
      ],
      "text/plain": [
       "     Unnamed: 0  puzzle_number score name\n",
       "4           NaN            NaN   NaN  NaN\n",
       "9           NaN            NaN   NaN  NaN\n",
       "14          NaN            NaN   NaN  NaN\n",
       "21          NaN            NaN   NaN  NaN\n",
       "24          NaN            NaN   NaN  NaN\n",
       "..          ...            ...   ...  ...\n",
       "329         NaN            NaN   NaN  NaN\n",
       "336         NaN            NaN   NaN  NaN\n",
       "343         NaN            NaN   NaN  NaN\n",
       "346         NaN            NaN   NaN  NaN\n",
       "354         NaN            NaN   NaN  NaN\n",
       "\n",
       "[61 rows x 4 columns]"
      ]
     },
     "execution_count": 69,
     "metadata": {},
     "output_type": "execute_result"
    }
   ],
   "source": [
    "david_scores_df[david_scores_df == \"<re.Match object; span=(9, 10), match='3'>\"]"
   ]
  },
  {
   "cell_type": "code",
   "execution_count": 72,
   "id": "f2be0f10",
   "metadata": {},
   "outputs": [
    {
     "data": {
      "text/plain": [
       "score\n",
       "4                                             153\n",
       "3                                              98\n",
       "5                                              69\n",
       "2                                              21\n",
       "6                                              13\n",
       "X                                               3\n",
       "<re.Match object; span=(9, 10), match='3'>      2\n",
       "<re.Match object; span=(9, 10), match='4'>      2\n",
       "1                                               1\n",
       "dtype: int64"
      ]
     },
     "execution_count": 72,
     "metadata": {},
     "output_type": "execute_result"
    }
   ],
   "source": [
    "scores_df.value_counts(\"score\")"
   ]
  },
  {
   "cell_type": "code",
   "execution_count": 73,
   "id": "fdbe3938",
   "metadata": {},
   "outputs": [
    {
     "data": {
      "text/html": [
       "<div>\n",
       "<style scoped>\n",
       "    .dataframe tbody tr th:only-of-type {\n",
       "        vertical-align: middle;\n",
       "    }\n",
       "\n",
       "    .dataframe tbody tr th {\n",
       "        vertical-align: top;\n",
       "    }\n",
       "\n",
       "    .dataframe thead th {\n",
       "        text-align: right;\n",
       "    }\n",
       "</style>\n",
       "<table border=\"1\" class=\"dataframe\">\n",
       "  <thead>\n",
       "    <tr style=\"text-align: right;\">\n",
       "      <th></th>\n",
       "      <th>Unnamed: 0</th>\n",
       "      <th>puzzle_number</th>\n",
       "      <th>score</th>\n",
       "      <th>name</th>\n",
       "    </tr>\n",
       "  </thead>\n",
       "  <tbody>\n",
       "    <tr>\n",
       "      <th>182</th>\n",
       "      <td>182</td>\n",
       "      <td>345</td>\n",
       "      <td>&lt;re.Match object; span=(9, 10), match='3'&gt;</td>\n",
       "      <td>me</td>\n",
       "    </tr>\n",
       "    <tr>\n",
       "      <th>191</th>\n",
       "      <td>191</td>\n",
       "      <td>347</td>\n",
       "      <td>&lt;re.Match object; span=(9, 10), match='3'&gt;</td>\n",
       "      <td>me</td>\n",
       "    </tr>\n",
       "  </tbody>\n",
       "</table>\n",
       "</div>"
      ],
      "text/plain": [
       "     Unnamed: 0  puzzle_number                                       score  \\\n",
       "182         182            345  <re.Match object; span=(9, 10), match='3'>   \n",
       "191         191            347  <re.Match object; span=(9, 10), match='3'>   \n",
       "\n",
       "    name  \n",
       "182   me  \n",
       "191   me  "
      ]
     },
     "execution_count": 73,
     "metadata": {},
     "output_type": "execute_result"
    }
   ],
   "source": [
    "scores_df[scores_df.score == \"<re.Match object; span=(9, 10), match='3'>\"]"
   ]
  },
  {
   "cell_type": "code",
   "execution_count": null,
   "id": "063a78cc",
   "metadata": {},
   "outputs": [],
   "source": []
  }
 ],
 "metadata": {
  "kernelspec": {
   "display_name": "Python 3 (ipykernel)",
   "language": "python",
   "name": "python3"
  },
  "language_info": {
   "codemirror_mode": {
    "name": "ipython",
    "version": 3
   },
   "file_extension": ".py",
   "mimetype": "text/x-python",
   "name": "python",
   "nbconvert_exporter": "python",
   "pygments_lexer": "ipython3",
   "version": "3.8.12"
  }
 },
 "nbformat": 4,
 "nbformat_minor": 5
}
